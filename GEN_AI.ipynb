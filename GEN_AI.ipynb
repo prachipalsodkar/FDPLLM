{
  "nbformat": 4,
  "nbformat_minor": 0,
  "metadata": {
    "colab": {
      "provenance": [],
      "authorship_tag": "ABX9TyMTthpPvzWplIhcOacu5e/v",
      "include_colab_link": true
    },
    "kernelspec": {
      "name": "python3",
      "display_name": "Python 3"
    },
    "language_info": {
      "name": "python"
    }
  },
  "cells": [
    {
      "cell_type": "markdown",
      "metadata": {
        "id": "view-in-github",
        "colab_type": "text"
      },
      "source": [
        "<a href=\"https://colab.research.google.com/github/prachipalsodkar/FDPLLM/blob/main/GEN_AI.ipynb\" target=\"_parent\"><img src=\"https://colab.research.google.com/assets/colab-badge.svg\" alt=\"Open In Colab\"/></a>"
      ]
    },
    {
      "cell_type": "code",
      "execution_count": null,
      "metadata": {
        "id": "Onmtw0ZXtGPX"
      },
      "outputs": [],
      "source": []
    },
    {
      "cell_type": "markdown",
      "source": [
        "# *Introduction* to  AI and LLM\n",
        "##\n"
      ],
      "metadata": {
        "id": "Nut5Jf3jtc3W"
      }
    },
    {
      "cell_type": "code",
      "source": [],
      "metadata": {
        "id": "kTEeQaAotkmx"
      },
      "execution_count": null,
      "outputs": []
    },
    {
      "cell_type": "markdown",
      "source": [],
      "metadata": {
        "id": "oRw2Rw-JtlrY"
      }
    }
  ]
}